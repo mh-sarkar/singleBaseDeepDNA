{
  "cells": [
    {
      "cell_type": "markdown",
      "metadata": {
        "id": "view-in-github",
        "colab_type": "text"
      },
      "source": [
        "<a href=\"https://colab.research.google.com/github/mh-sarkar/singleBaseDeepDNA/blob/main/DeepDNA_05_06_2022_for_github.ipynb\" target=\"_parent\"><img src=\"https://colab.research.google.com/assets/colab-badge.svg\" alt=\"Open In Colab\"/></a>"
      ]
    },
    {
      "cell_type": "markdown",
      "source": [
        "# Connecting Google Drive\n",
        "\n",
        "---\n"
      ],
      "metadata": {
        "id": "o-QGWkXOUWy2"
      }
    },
    {
      "cell_type": "code",
      "execution_count": null,
      "metadata": {
        "id": "cTdtl3Te32vP",
        "colab": {
          "base_uri": "https://localhost:8080/"
        },
        "outputId": "7bae0336-e41b-41c1-b606-0cfc1374c984"
      },
      "outputs": [
        {
          "output_type": "stream",
          "name": "stdout",
          "text": [
            "Mounted at /content/drive\n"
          ]
        }
      ],
      "source": [
        "from google.colab import drive\n",
        "drive.mount('/content/drive')"
      ]
    },
    {
      "cell_type": "markdown",
      "metadata": {
        "id": "g9Pec_7gNVsn"
      },
      "source": [
        "# Import Library\n",
        "\n",
        "---\n",
        "\n"
      ]
    },
    {
      "cell_type": "code",
      "execution_count": null,
      "metadata": {
        "id": "oYK2iGdXrpCu",
        "colab": {
          "base_uri": "https://localhost:8080/"
        },
        "outputId": "4d995293-6129-4aae-93a3-4a2f9d822c46"
      },
      "outputs": [
        {
          "output_type": "stream",
          "name": "stdout",
          "text": [
            "Looking in indexes: https://pypi.org/simple, https://us-python.pkg.dev/colab-wheels/public/simple/\n",
            "Collecting Bio\n",
            "  Downloading bio-1.3.9-py3-none-any.whl (270 kB)\n",
            "\u001b[K     |████████████████████████████████| 270 kB 5.3 MB/s \n",
            "\u001b[?25hCollecting biopython>=1.79\n",
            "  Downloading biopython-1.79-cp37-cp37m-manylinux_2_5_x86_64.manylinux1_x86_64.whl (2.3 MB)\n",
            "\u001b[K     |████████████████████████████████| 2.3 MB 68.8 MB/s \n",
            "\u001b[?25hCollecting mygene\n",
            "  Downloading mygene-3.2.2-py2.py3-none-any.whl (5.4 kB)\n",
            "Requirement already satisfied: tqdm in /usr/local/lib/python3.7/dist-packages (from Bio) (4.64.0)\n",
            "Requirement already satisfied: requests in /usr/local/lib/python3.7/dist-packages (from Bio) (2.23.0)\n",
            "Requirement already satisfied: numpy in /usr/local/lib/python3.7/dist-packages (from biopython>=1.79->Bio) (1.21.6)\n",
            "Collecting biothings-client>=0.2.6\n",
            "  Downloading biothings_client-0.2.6-py2.py3-none-any.whl (37 kB)\n",
            "Requirement already satisfied: chardet<4,>=3.0.2 in /usr/local/lib/python3.7/dist-packages (from requests->Bio) (3.0.4)\n",
            "Requirement already satisfied: certifi>=2017.4.17 in /usr/local/lib/python3.7/dist-packages (from requests->Bio) (2022.5.18.1)\n",
            "Requirement already satisfied: urllib3!=1.25.0,!=1.25.1,<1.26,>=1.21.1 in /usr/local/lib/python3.7/dist-packages (from requests->Bio) (1.24.3)\n",
            "Requirement already satisfied: idna<3,>=2.5 in /usr/local/lib/python3.7/dist-packages (from requests->Bio) (2.10)\n",
            "Installing collected packages: biothings-client, mygene, biopython, Bio\n",
            "Successfully installed Bio-1.3.9 biopython-1.79 biothings-client-0.2.6 mygene-3.2.2\n",
            "Looking in indexes: https://pypi.org/simple, https://us-python.pkg.dev/colab-wheels/public/simple/\n",
            "Collecting fuzzywuzzy\n",
            "  Downloading fuzzywuzzy-0.18.0-py2.py3-none-any.whl (18 kB)\n",
            "Installing collected packages: fuzzywuzzy\n",
            "Successfully installed fuzzywuzzy-0.18.0\n"
          ]
        }
      ],
      "source": [
        "!pip install Bio\n",
        "!pip install fuzzywuzzy"
      ]
    },
    {
      "cell_type": "code",
      "execution_count": null,
      "metadata": {
        "id": "oyUmwLtD4-iE"
      },
      "outputs": [],
      "source": [
        "import random\n",
        "import numpy as np\n",
        "import sys\n",
        "import io\n",
        "import math\n",
        "import tensorflow as tf\n",
        "import keras\n",
        "\n",
        "from __future__ import print_function\n",
        "from itertools import product\n",
        "\n",
        "from Bio import SeqIO\n",
        "from Bio.Seq import Seq\n",
        "# from Bio.Alphabet import generic_dna\n",
        "\n",
        "from keras import backend as K\n",
        "from keras.callbacks import LambdaCallback, Callback\n",
        "from keras.models import Sequential\n",
        "from keras.layers.core import Dense, Dropout, Activation, Flatten\n",
        "from keras.layers import LSTM\n",
        "from keras.layers import Conv1D, MaxPooling1D\n",
        "from keras.utils.data_utils import get_file\n",
        "from keras.models import model_from_json\n",
        "from keras.models import load_model\n",
        "from keras.callbacks import EarlyStopping\n",
        "from keras.callbacks import ModelCheckpoint\n",
        "from sklearn.model_selection import train_test_split\n",
        "\n",
        "from tensorflow.keras.optimizers import RMSprop"
      ]
    },
    {
      "cell_type": "markdown",
      "source": [
        "#Define Constant\n",
        "\n",
        "---\n",
        "\n"
      ],
      "metadata": {
        "id": "2j3W4vADjRuc"
      }
    },
    {
      "cell_type": "code",
      "source": [
        "SEQ_MAX_LEN = 16400\n",
        "CHARS = \"ACGT\"\n",
        "# print('total chars:', len(CHARS))\n",
        "# print('chars:', CHARS)\n",
        "CHAR_INDICES = dict((c, i) for i, c in enumerate(CHARS))\n",
        "INDICES_CHAR = dict((i, c) for i, c in enumerate(CHARS))\n",
        "MAXLEN = 64\n",
        "STEP = 1\n",
        "BATCH_SIZE = 4096\n",
        "INITIAL_LR = 0.001\n",
        "GLOBAL_DECAY_STEPS = 10000\n",
        "GLOBAL_DECAY_RATE = 0.9\n",
        "EPOCHS = 10\n",
        "INPUT_DIM = len(CHARS)"
      ],
      "metadata": {
        "id": "_2sic94QiKY0"
      },
      "execution_count": null,
      "outputs": []
    },
    {
      "cell_type": "markdown",
      "metadata": {
        "id": "h1qkqOcMNMWK"
      },
      "source": [
        "# **Data Split** ▶▶\n",
        "\n",
        "---\n",
        "\n"
      ]
    },
    {
      "cell_type": "markdown",
      "source": [
        "##Read Full Mitocondrial DNA"
      ],
      "metadata": {
        "id": "hqM9GCrVh6u5"
      }
    },
    {
      "cell_type": "code",
      "execution_count": null,
      "metadata": {
        "id": "DSGShXu320CQ"
      },
      "outputs": [],
      "source": [
        "filename ='MYTROONDRIA_DNA_FASTA_FILE_PATH'# downloaded multi-fasta file from MITOMAP database\n",
        "reads = []\n",
        "with open(filename, \"r\") as handle:\n",
        "\tfor record in SeqIO.parse(handle, \"fasta\") :\n",
        "\t\tif(len(record.seq) > SEQ_MAX_LEN):\n",
        "\t\t\treads.append(record)\n",
        "# print(len(reads))"
      ]
    },
    {
      "cell_type": "markdown",
      "source": [
        "##Create ACGT Map for Consensus"
      ],
      "metadata": {
        "id": "DdE8hMoJjlyh"
      }
    },
    {
      "cell_type": "code",
      "execution_count": null,
      "metadata": {
        "id": "MmHxuRZOteC2"
      },
      "outputs": [],
      "source": [
        "my_map_data = {'A':0, 'C':1, 'G':2, 'T':3}"
      ]
    },
    {
      "cell_type": "code",
      "execution_count": null,
      "metadata": {
        "id": "O6EYNEBRtSWo"
      },
      "outputs": [],
      "source": [
        "def get_key(val):\n",
        "    for key, value in my_map_data.items():\n",
        "         if val == value:\n",
        "             return key\n",
        " \n",
        "    return \"\""
      ]
    },
    {
      "cell_type": "markdown",
      "source": [
        "##Consensus Sequence"
      ],
      "metadata": {
        "id": "nQh-czx7j9mn"
      }
    },
    {
      "cell_type": "code",
      "execution_count": null,
      "metadata": {
        "id": "9SMffkC7rRXC"
      },
      "outputs": [],
      "source": [
        "twod_list = []\n",
        "a=[]\n",
        "t=[]\n",
        "g=[]\n",
        "c=[]\n",
        "for j in range(len(max(reads, key=len))):\n",
        "    a.append([i[j] for i in reads if j< len(i)].count('A'))\n",
        "    t.append([i[j] for i in reads if j< len(i)].count('T'))\n",
        "    g.append([i[j] for i in reads if j< len(i)].count('G'))\n",
        "    c.append([i[j] for i in reads if j< len(i)].count('C'))\n",
        "\n",
        "twod_list.append(a)\n",
        "twod_list.append(c)\n",
        "twod_list.append(g)\n",
        "twod_list.append(t)\n",
        "A = np.asarray(twod_list)\n",
        "\n",
        "max = A.max(axis=0, keepdims=True)\n",
        "max_index = A.argmax(axis=0)"
      ]
    },
    {
      "cell_type": "markdown",
      "source": [
        "## Main Sequence Data Split"
      ],
      "metadata": {
        "id": "vIBDrYrzkhvp"
      }
    },
    {
      "cell_type": "code",
      "execution_count": null,
      "metadata": {
        "id": "qZjaYX2mMor-"
      },
      "outputs": [],
      "source": [
        "items = range(len(reads))\n",
        "# random.shuffle(items)\n",
        "\n",
        "train, test = train_test_split(items, test_size=0.10, random_state=42)\n",
        "train, valid = train_test_split(train,test_size=0.18, random_state=42) # 0.25 x 0.8 = 0.2\n",
        "\n",
        "# train = items[0:1407]\n",
        "# valid = items[1407:1809]\n",
        "# test = items[1809:2011]\n",
        "train_record = []\n",
        "valid_record = []\n",
        "test_record = []"
      ]
    },
    {
      "cell_type": "markdown",
      "source": [
        "##Apply Consensus ▶\n",
        "\n",
        "---\n",
        "\n"
      ],
      "metadata": {
        "id": "39C7EQVrk9Mk"
      }
    },
    {
      "cell_type": "markdown",
      "source": [
        "###Check and Apply Consensus Function"
      ],
      "metadata": {
        "id": "Cceyui1alcdr"
      }
    },
    {
      "cell_type": "code",
      "execution_count": null,
      "metadata": {
        "id": "F2kwZ-AGMsp6"
      },
      "outputs": [],
      "source": [
        "def check(read):\n",
        "\trecord = read\n",
        "\tmy_dna = str(read.seq.upper())\n",
        "\tfor i, base in enumerate(my_dna):\n",
        "\t\tif base not in 'ACGT':\n",
        "\t\t\t# print(base, get_key(max_index[i]))\n",
        "\t\t\tmy_dna = my_dna.replace(base,get_key(max_index[i]))\n",
        "\trecord.seq= Seq(my_dna)\n",
        "\tfor i, base in enumerate(record.seq):\n",
        "\t\tif base not in 'ACGT':\n",
        "\t\t\tprint(record.seq[i])\n",
        "\treturn record"
      ]
    },
    {
      "cell_type": "markdown",
      "source": [
        "###Train Sequence Create"
      ],
      "metadata": {
        "id": "od6bN-QvmkSd"
      }
    },
    {
      "cell_type": "code",
      "execution_count": null,
      "metadata": {
        "id": "Ur0j8GSDMu9o",
        "colab": {
          "base_uri": "https://localhost:8080/"
        },
        "outputId": "4712ad18-7adc-4c8f-8c4d-53ce4ce20a23"
      },
      "outputs": [
        {
          "output_type": "execute_result",
          "data": {
            "text/plain": [
              "73"
            ]
          },
          "metadata": {},
          "execution_count": 13
        }
      ],
      "source": [
        "for i in train:\n",
        "\tread = check(reads[i])\n",
        "\ttrain_record.append(read)\n",
        " \n",
        "#save the data\n",
        "SeqIO.write(train_record, \"TRAIN_FILE_PATH\", \"fasta\")"
      ]
    },
    {
      "cell_type": "markdown",
      "source": [
        "###Valid Sequence Create"
      ],
      "metadata": {
        "id": "xgNZ8qN2m1UK"
      }
    },
    {
      "cell_type": "code",
      "execution_count": null,
      "metadata": {
        "id": "uSzGcYz0MwdD",
        "colab": {
          "base_uri": "https://localhost:8080/"
        },
        "outputId": "65a7d59a-994f-4a55-f3a2-ed37b3f8f633"
      },
      "outputs": [
        {
          "output_type": "execute_result",
          "data": {
            "text/plain": [
              "17"
            ]
          },
          "metadata": {},
          "execution_count": 14
        }
      ],
      "source": [
        "for i in valid:\n",
        "\tread = check(reads[i])\n",
        "\tvalid_record.append(read)\n",
        " \n",
        "#save the data\n",
        "SeqIO.write(valid_record, \"VALID_FILE_PATH\", \"fasta\")"
      ]
    },
    {
      "cell_type": "markdown",
      "source": [
        "###Test Sequence Create"
      ],
      "metadata": {
        "id": "LOLBEvcVm1n_"
      }
    },
    {
      "cell_type": "code",
      "execution_count": null,
      "metadata": {
        "id": "Yn8Zg1sIMyvR",
        "colab": {
          "base_uri": "https://localhost:8080/"
        },
        "outputId": "643adf6e-c451-4ea7-f3de-b93db6130eb1"
      },
      "outputs": [
        {
          "output_type": "execute_result",
          "data": {
            "text/plain": [
              "10"
            ]
          },
          "metadata": {},
          "execution_count": 15
        }
      ],
      "source": [
        "for i in test:\n",
        "\tread = check(reads[i])\t\n",
        "\ttest_record.append(read)\n",
        " \n",
        "#save the data\n",
        "SeqIO.write(test_record, \"TEST_FILE_PATH\", \"fasta\")"
      ]
    },
    {
      "cell_type": "markdown",
      "metadata": {
        "id": "fn95jdy1NQG7"
      },
      "source": [
        "# **Train Dataset** ▶▶\n",
        "\n",
        "---\n",
        "\n"
      ]
    },
    {
      "cell_type": "markdown",
      "source": [
        "##Path Define"
      ],
      "metadata": {
        "id": "T0sXqhcJwK-R"
      }
    },
    {
      "cell_type": "code",
      "execution_count": null,
      "metadata": {
        "id": "Xk1_vp7_NdVt"
      },
      "outputs": [],
      "source": [
        "early_stopping = EarlyStopping(monitor='val_loss', patience=2)\n",
        "np.random.seed(1337) # for reproducibility\n",
        "train_path = 'TRAIN_FILE_PATH'\n",
        "valid_path = 'VALID_FILE_PATH'\n",
        "test_path = 'TEST_FILE_PATH'"
      ]
    },
    {
      "cell_type": "markdown",
      "source": [
        "##Data Vectorization ▶\n",
        "\n",
        "---\n",
        "\n"
      ],
      "metadata": {
        "id": "gtSjsx4wwywT"
      }
    },
    {
      "cell_type": "markdown",
      "source": [
        "###Read Data From Path Function"
      ],
      "metadata": {
        "id": "dIK6xbVhw62b"
      }
    },
    {
      "cell_type": "code",
      "execution_count": null,
      "metadata": {
        "id": "uSd10BHTOZ7_"
      },
      "outputs": [],
      "source": [
        "def read_fasta(data_path):\n",
        "    records = list(SeqIO.parse(data_path, \"fasta\"))\n",
        "    text = \"\"\n",
        "    for record in records:\n",
        "        text += str(record.seq)\n",
        "    return text"
      ]
    },
    {
      "cell_type": "markdown",
      "source": [
        "###Read Data for Vectorization from Path Function"
      ],
      "metadata": {
        "id": "xfsEzNhhxDOQ"
      }
    },
    {
      "cell_type": "code",
      "execution_count": null,
      "metadata": {
        "id": "u07h8izyxDOS"
      },
      "outputs": [],
      "source": [
        "def read_fasta_vectorization(data_path):\n",
        "    records = list(SeqIO.parse(data_path, \"fasta\"))\n",
        "    text = \"\"\n",
        "    for record in records:\n",
        "        text += str(record.seq)\n",
        "    text = text + text[0:BATCH_SIZE-len(text)%BATCH_SIZE]\n",
        "    return text"
      ]
    },
    {
      "cell_type": "markdown",
      "source": [
        "###Small Data Sequence Split from Full Sequence Data Function "
      ],
      "metadata": {
        "id": "mZxZHsXgzKEq"
      }
    },
    {
      "cell_type": "code",
      "execution_count": null,
      "metadata": {
        "id": "qRPW2PkwOcyH"
      },
      "outputs": [],
      "source": [
        "def read_data(data_path):\n",
        "    text = read_fasta_vectorization(data_path)\n",
        "    for i in range(0, len(text) - MAXLEN, STEP):\n",
        "        sentence = text[i: i + MAXLEN]\n",
        "        next_char = text[i + MAXLEN]\n",
        "        yield sentence, next_char"
      ]
    },
    {
      "cell_type": "markdown",
      "source": [
        "###Data Vectorization Function"
      ],
      "metadata": {
        "id": "3O0CCMaj1AEs"
      }
    },
    {
      "cell_type": "code",
      "execution_count": null,
      "metadata": {
        "id": "k60_lWt5OeiS"
      },
      "outputs": [],
      "source": [
        "def vectorization(sentences, next_chars):\n",
        "    x = np.zeros((BATCH_SIZE, MAXLEN, len(CHARS)), dtype=np.float32)\n",
        "    y = np.zeros((BATCH_SIZE, len(CHARS)), dtype=np.float32)\n",
        "    for i, sentence in enumerate(sentences):\n",
        "        for t, char in enumerate(sentence):\n",
        "            x[i, t, CHAR_INDICES[char]] = 1\n",
        "        y[i, CHAR_INDICES[next_chars[i]]] = 1\n",
        "    return x, y"
      ]
    },
    {
      "cell_type": "markdown",
      "source": [
        "###Get Batch Function"
      ],
      "metadata": {
        "id": "MeHN2xLV1sJu"
      }
    },
    {
      "cell_type": "code",
      "execution_count": null,
      "metadata": {
        "id": "GEDaIpn9Ogcl"
      },
      "outputs": [],
      "source": [
        "def get_batch(stream):\n",
        "    sentences = []\n",
        "    next_chars = []\n",
        "    for sentence, next_char in stream:\n",
        "        sentences.append(sentence)\n",
        "        next_chars.append(next_char)\n",
        "        if len(sentences) == BATCH_SIZE:\n",
        "            data_tuple = vectorization(sentences,next_chars)\n",
        "            yield data_tuple\n",
        "            sentences = []\n",
        "            next_chars = []\n",
        "    # Added for padding characters\n",
        "    if len(sentences) <= BATCH_SIZE:\n",
        "        data_tuple = vectorization(sentences,next_chars)\n",
        "        yield data_tuple\n",
        "        sentences = []\n",
        "        next_chars = []"
      ]
    },
    {
      "cell_type": "markdown",
      "source": [
        "###Get Vectorized Data Function"
      ],
      "metadata": {
        "id": "OMTTOufV4Xdj"
      }
    },
    {
      "cell_type": "code",
      "execution_count": null,
      "metadata": {
        "id": "uVEI16c0s7y-"
      },
      "outputs": [],
      "source": [
        "def get_vectorized_data(data_path):\n",
        "    data_X = []\n",
        "    data_y = []\n",
        "    for i, batch in enumerate(get_batch(read_data(data_path))):\n",
        "        data_X.append(batch[0])\n",
        "        data_y.append(batch[1])\n",
        "    data_X = np.array(data_X)\n",
        "    data_X = data_X.reshape(-1,64,4)\n",
        "    data_y = np.array(data_y)\n",
        "    data_y = data_y.reshape(-1,4)\n",
        "    return data_X, data_y"
      ]
    },
    {
      "cell_type": "markdown",
      "source": [
        "###Assign Vectorized Data"
      ],
      "metadata": {
        "id": "KMyt_PKa5n4w"
      }
    },
    {
      "cell_type": "code",
      "execution_count": null,
      "metadata": {
        "id": "zswg7xZxuRWo"
      },
      "outputs": [],
      "source": [
        "X_train, y_train = get_vectorized_data(train_path)\n",
        "X_test, y_test = get_vectorized_data(test_path)\n",
        "X_valid, y_valid = get_vectorized_data(valid_path)"
      ]
    },
    {
      "cell_type": "markdown",
      "source": [
        "##Model   ▶\n",
        "\n",
        "---\n",
        "\n"
      ],
      "metadata": {
        "id": "IqtNpXcr8S1_"
      }
    },
    {
      "cell_type": "markdown",
      "source": [
        "###CNN LSTM Model Function"
      ],
      "metadata": {
        "id": "mu5pUR2_6O7c"
      }
    },
    {
      "cell_type": "code",
      "execution_count": null,
      "metadata": {
        "id": "o5zpHvUbOpZm"
      },
      "outputs": [],
      "source": [
        "def model_CNN_LSTM():\n",
        "  # build the model: a single LSTM\n",
        "  print('Build model...')\n",
        "  model = Sequential()\n",
        "  model.add(Conv1D(filters=512,\n",
        "                    kernel_size=8,\n",
        "                    trainable=True,\n",
        "                    padding='valid',\n",
        "                    activation='relu',\n",
        "                    strides=1,\n",
        "                    input_shape=X_train[0].shape))\n",
        "  model.add(MaxPooling1D(pool_size=5))\n",
        "  model.add(Dropout(0.2))\n",
        "  model.add(Conv1D(filters=256,\n",
        "                    kernel_size=8,\n",
        "                    trainable=True,\n",
        "                    padding='same',\n",
        "                    activation='relu'))\n",
        "  model.add(MaxPooling1D(pool_size=3))\n",
        "  model.add(Dropout(0.2))\n",
        "  model.add(LSTM(256,return_sequences=True))\n",
        "  model.add(Dropout(0.2))\n",
        "  model.add(LSTM(128,return_sequences=True))\n",
        "  model.add(Dropout(0.2))\n",
        "  model.add(LSTM(64,return_sequences=True))\n",
        "  model.add(Dropout(0.2))\n",
        "  model.add(Flatten())\n",
        "  model.add(Dense(256))\n",
        "  model.add(Activation('relu'))\n",
        "  model.add(Dense(INPUT_DIM))\n",
        "  model.add(Activation('softmax'))\n",
        "  # optimizer = RMSprop(learning_rate=0.001)\n",
        "\n",
        "#### EXPONENTIAL DECAY ####  \n",
        "  lr_schedule = tf.keras.optimizers.schedules.ExponentialDecay(\n",
        "    initial_learning_rate=INITIAL_LR,\n",
        "    decay_steps=GLOBAL_DECAY_STEPS,\n",
        "    decay_rate=GLOBAL_DECAY_RATE,\n",
        "    staircase=True)\n",
        "\n",
        "#### COSINE DECAY ####  \n",
        "  # decay_steps = GLOBAL_DECAY_STEPS\n",
        "  # initial_learning_rate = INITIAL_LR\n",
        "  # lr_schedule = tf.keras.optimizers.schedules.CosineDecay(\n",
        "  #       initial_learning_rate, decay_steps)\n",
        "\n",
        "# #### Polynomial DECAY) ####  \n",
        "  # starter_learning_rate = INITIAL_LR\n",
        "  # end_learning_rate = 1e-7\n",
        "  # decay_steps = GLOBAL_DECAY_STEPS\n",
        "  # lr_schedule = tf.keras.optimizers.schedules.PolynomialDecay(\n",
        "  #     starter_learning_rate,\n",
        "  #     decay_steps,\n",
        "  #     end_learning_rate,\n",
        "  #     power=0.5)\n",
        "\n",
        "# #### INVERSE TIME DECAY ####  \n",
        "  # initial_learning_rate =INITIAL_LR\n",
        "  # decay_steps = GLOBAL_DECAY_STEPS\n",
        "  # decay_rate = GLOBAL_DECAY_RATE\n",
        "  # lr_schedule = tf.keras.optimizers.schedules.InverseTimeDecay(\n",
        "  #   initial_learning_rate, decay_steps, decay_rate)\n",
        "\n",
        "# #### COSINE DECAY RESTARTS #### \n",
        "  # initial_learning_rate = INITIAL_LR\n",
        "  # first_decay_steps = GLOBAL_DECAY_STEPS\n",
        "  # lr_schedule = tf.keras.optimizers.schedules.CosineDecayRestarts(\n",
        "  #       initial_learning_rate,\n",
        "  #       first_decay_steps)\n",
        "  \n",
        "  optimizer = RMSprop(learning_rate=lr_schedule)\n",
        "  \n",
        "  #####\n",
        "\n",
        "# #### Polynomial DECAY) ####  \n",
        "# starter_learning_rate = 0.1\n",
        "# end_learning_rate = 1e-7\n",
        "# decay_steps = 100\n",
        "# lr_schedule = tf.keras.optimizers.schedules.PolynomialDecay(\n",
        "#     starter_learning_rate,\n",
        "#     decay_steps,\n",
        "#     end_learning_rate,\n",
        "#     power=0.5)\n",
        "\n",
        "  # initial_learning_rate = 0.001\n",
        "  # decay_steps = 1.0\n",
        "  # decay_rate = 0.8\n",
        "  # learning_rate_fn = tf.keras.optimizers.schedules.InverseTimeDecay(\n",
        "  #   initial_learning_rate, decay_steps, decay_rate)\n",
        "\n",
        "  # model.compile(optimizer=tf.keras.optimizers.SGD(\n",
        "  #                 learning_rate=learning_rate_fn),\n",
        "  #             loss='categorical_crossentropy',\n",
        "  #             metrics=['accuracy'])\n",
        "  model.compile(loss='categorical_crossentropy', optimizer=optimizer)\n",
        "  return model"
      ]
    },
    {
      "cell_type": "markdown",
      "source": [
        "###Model Define"
      ],
      "metadata": {
        "id": "053tsu3S8Igj"
      }
    },
    {
      "cell_type": "code",
      "execution_count": null,
      "metadata": {
        "colab": {
          "base_uri": "https://localhost:8080/"
        },
        "id": "LekQvJi7OySQ",
        "outputId": "f4b51640-36d1-456d-deb4-8eab69eb1c62"
      },
      "outputs": [
        {
          "output_type": "stream",
          "name": "stdout",
          "text": [
            "Build model...\n"
          ]
        }
      ],
      "source": [
        "model = model_CNN_LSTM()"
      ]
    },
    {
      "cell_type": "markdown",
      "source": [
        "###Model Summary"
      ],
      "metadata": {
        "id": "ODCF-Mol8aWG"
      }
    },
    {
      "cell_type": "code",
      "source": [
        "model.summary()"
      ],
      "metadata": {
        "colab": {
          "base_uri": "https://localhost:8080/"
        },
        "id": "x7JywqkmFGMx",
        "outputId": "e4e4febd-8b86-447f-b59d-11bd30ba200f"
      },
      "execution_count": null,
      "outputs": [
        {
          "output_type": "stream",
          "name": "stdout",
          "text": [
            "Model: \"sequential\"\n",
            "_________________________________________________________________\n",
            " Layer (type)                Output Shape              Param #   \n",
            "=================================================================\n",
            " conv1d (Conv1D)             (None, 57, 512)           16896     \n",
            "                                                                 \n",
            " max_pooling1d (MaxPooling1D  (None, 11, 512)          0         \n",
            " )                                                               \n",
            "                                                                 \n",
            " dropout (Dropout)           (None, 11, 512)           0         \n",
            "                                                                 \n",
            " conv1d_1 (Conv1D)           (None, 11, 256)           1048832   \n",
            "                                                                 \n",
            " max_pooling1d_1 (MaxPooling  (None, 3, 256)           0         \n",
            " 1D)                                                             \n",
            "                                                                 \n",
            " dropout_1 (Dropout)         (None, 3, 256)            0         \n",
            "                                                                 \n",
            " lstm (LSTM)                 (None, 3, 256)            525312    \n",
            "                                                                 \n",
            " dropout_2 (Dropout)         (None, 3, 256)            0         \n",
            "                                                                 \n",
            " lstm_1 (LSTM)               (None, 3, 128)            197120    \n",
            "                                                                 \n",
            " dropout_3 (Dropout)         (None, 3, 128)            0         \n",
            "                                                                 \n",
            " lstm_2 (LSTM)               (None, 3, 64)             49408     \n",
            "                                                                 \n",
            " dropout_4 (Dropout)         (None, 3, 64)             0         \n",
            "                                                                 \n",
            " flatten (Flatten)           (None, 192)               0         \n",
            "                                                                 \n",
            " dense (Dense)               (None, 256)               49408     \n",
            "                                                                 \n",
            " activation (Activation)     (None, 256)               0         \n",
            "                                                                 \n",
            " dense_1 (Dense)             (None, 4)                 1028      \n",
            "                                                                 \n",
            " activation_1 (Activation)   (None, 4)                 0         \n",
            "                                                                 \n",
            "=================================================================\n",
            "Total params: 1,888,004\n",
            "Trainable params: 1,888,004\n",
            "Non-trainable params: 0\n",
            "_________________________________________________________________\n"
          ]
        }
      ]
    },
    {
      "cell_type": "markdown",
      "source": [
        "###Load Previous Model if exists"
      ],
      "metadata": {
        "id": "cHwwZylg9AWQ"
      }
    },
    {
      "cell_type": "code",
      "source": [
        "model = load_model('SAVE_MODEL_PATH')"
      ],
      "metadata": {
        "id": "zCwIcD0IkVnS"
      },
      "execution_count": null,
      "outputs": []
    },
    {
      "cell_type": "markdown",
      "source": [
        "##Model Train ▶\n",
        "\n",
        "---\n"
      ],
      "metadata": {
        "id": "LZgOYSLG94lJ"
      }
    },
    {
      "cell_type": "markdown",
      "source": [
        "### Model Check Point Callback Function"
      ],
      "metadata": {
        "id": "dpw7z9Jw99yy"
      }
    },
    {
      "cell_type": "code",
      "source": [
        "checkpoint = ModelCheckpoint('SAVE_MODEL_PATH', monitor='loss', verbose=1, save_best_only=True, mode='min', save_freq=295*5)"
      ],
      "metadata": {
        "id": "KHnWLum_gggw"
      },
      "execution_count": null,
      "outputs": []
    },
    {
      "cell_type": "markdown",
      "source": [
        "###Get Model Losses History from Fit Function"
      ],
      "metadata": {
        "id": "OIUAgEDUATSm"
      }
    },
    {
      "cell_type": "code",
      "execution_count": null,
      "metadata": {
        "id": "oiQ4CrUGO33y"
      },
      "outputs": [],
      "source": [
        "history = model.fit(X_train, y_train, batch_size=BATCH_SIZE,epochs=EPOCHS ,callbacks=[checkpoint], validation_data=(X_valid, y_valid), shuffle=True)"
      ]
    },
    {
      "cell_type": "markdown",
      "source": [
        "###History Print"
      ],
      "metadata": {
        "id": "mIZV0_OULRfl"
      }
    },
    {
      "cell_type": "code",
      "execution_count": null,
      "metadata": {
        "id": "uRNay9kWSHUV",
        "colab": {
          "base_uri": "https://localhost:8080/"
        },
        "outputId": "5bd67c60-0588-4e38-ec70-3c67984c816d"
      },
      "outputs": [
        {
          "output_type": "execute_result",
          "data": {
            "text/plain": [
              "{'loss': [1.3095585107803345,\n",
              "  1.060040831565857,\n",
              "  0.7040941119194031,\n",
              "  0.4394443929195404,\n",
              "  0.25418907403945923,\n",
              "  0.16672283411026,\n",
              "  0.1267426759004593,\n",
              "  0.09925424307584763,\n",
              "  0.0840337947010994,\n",
              "  0.07284735888242722],\n",
              " 'val_loss': [1.187725305557251,\n",
              "  0.7227854132652283,\n",
              "  0.41259172558784485,\n",
              "  0.10942976176738739,\n",
              "  0.03924401104450226,\n",
              "  0.023966992273926735,\n",
              "  0.029085051268339157,\n",
              "  0.023112645372748375,\n",
              "  0.016733862459659576,\n",
              "  0.0162200927734375]}"
            ]
          },
          "metadata": {},
          "execution_count": 102
        }
      ],
      "source": [
        "history.history"
      ]
    },
    {
      "cell_type": "markdown",
      "source": [
        "###View History Plot "
      ],
      "metadata": {
        "id": "_3pteixVB-OX"
      }
    },
    {
      "cell_type": "code",
      "source": [
        "import matplotlib.pyplot as plt\n",
        "\n",
        "loss_train = history.history['loss']\n",
        "loss_val = history.history['val_loss']\n",
        "epochs = range(1, EPOCHS+1)\n",
        "plt.plot(epochs, loss_train, 'g', label='Training loss')\n",
        "plt.plot(epochs, loss_val, 'b', label='validation loss')\n",
        "plt.title('Training and Validation loss')\n",
        "plt.xlabel('Epochs')\n",
        "plt.ylabel('Loss')\n",
        "plt.legend()\n",
        "plt.show()"
      ],
      "metadata": {
        "id": "6kmoi9dfGQiJ",
        "colab": {
          "base_uri": "https://localhost:8080/",
          "height": 295
        },
        "outputId": "62c1560a-414b-4ee3-8178-44483ec4d71e"
      },
      "execution_count": null,
      "outputs": [
        {
          "output_type": "display_data",
          "data": {
            "text/plain": [
              "<Figure size 432x288 with 1 Axes>"
            ],
            "image/png": "[encoded data removed]"
          },
          "metadata": {
            "needs_background": "light"
          }
        }
      ]
    },
    {
      "cell_type": "markdown",
      "source": [
        "#**Test Dataset Result** ✅\n",
        "\n",
        "---\n",
        "\n"
      ],
      "metadata": {
        "id": "i3ojE-mZCdp7"
      }
    },
    {
      "cell_type": "code",
      "execution_count": null,
      "metadata": {
        "id": "5TAbN0xFAyrW",
        "colab": {
          "base_uri": "https://localhost:8080/"
        },
        "outputId": "b589a2ab-24c9-4e13-c39d-58a0ec6f06e4"
      },
      "outputs": [
        {
          "output_type": "stream",
          "name": "stdout",
          "text": [
            "2560/2560 [==============================] - 21s 8ms/step - loss: 0.0159\n",
            "test loss, test acc: 0.015931865200400352\n"
          ]
        }
      ],
      "source": [
        "results = model.evaluate(X_test, y_test, batch_size=64)\n",
        "print(\"test loss, test acc:\", results)"
      ]
    }
  ],
  "metadata": {
    "colab": {
      "collapsed_sections": [],
      "name": "DeepDNA_05.06.2022 for github.ipynb",
      "provenance": [],
      "include_colab_link": true
    },
    "kernelspec": {
      "display_name": "Python 3",
      "name": "python3"
    },
    "language_info": {
      "name": "python"
    },
    "accelerator": "GPU"
  },
  "nbformat": 4,
  "nbformat_minor": 0
}